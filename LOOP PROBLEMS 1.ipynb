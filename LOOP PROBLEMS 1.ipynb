{
 "cells": [
  {
   "cell_type": "markdown",
   "metadata": {},
   "source": [
    "# (1) For a given list, get the sum of each number in the list"
   ]
  },
  {
   "cell_type": "markdown",
   "metadata": {},
   "source": [
    "HINT: \n",
    "Should be simple for you. Declare a sum variable. Then just loop through the list and add it to the sum."
   ]
  },
  {
   "cell_type": "code",
   "execution_count": 1,
   "metadata": {},
   "outputs": [
    {
     "name": "stdout",
     "output_type": "stream",
     "text": [
      "The total of each elements: 288\n"
     ]
    }
   ],
   "source": [
    "def get_sum(nums):\n",
    "    sum = 0\n",
    "    for num in nums:\n",
    "        sum = sum + num\n",
    "    return sum\n",
    "nums = [13,89,65,42,12,11,56]\n",
    " \n",
    "total = get_sum(nums)\n",
    "print(\"The total of each elements:\",total)"
   ]
  },
  {
   "cell_type": "markdown",
   "metadata": {},
   "source": [
    "# (2) Take a number as input. Then get the sum of the numbers. If the number is n. Then get  0^2+1^2+2^2+3^2+4^2+.............+n^2"
   ]
  },
  {
   "cell_type": "markdown",
   "metadata": {},
   "source": [
    "HINT: Once again, run a for loop with a range. Inside the loop, use the power of 2. Then add that power to a sum variable. That’s it."
   ]
  },
  {
   "cell_type": "code",
   "execution_count": 2,
   "metadata": {},
   "outputs": [
    {
     "name": "stdout",
     "output_type": "stream",
     "text": [
      "Enter a number: 6\n",
      "sum of square numbers is  91\n"
     ]
    }
   ],
   "source": [
    "def square_sum(num) :\n",
    "    sum = 0\n",
    "    for i in range(num+1) :\n",
    "        square = (i ** 2)\n",
    "        sum = sum + square\n",
    "    \n",
    "    return sum\n",
    "\n",
    "num = int(input('Enter a number: '))\n",
    "sum = square_sum(num)\n",
    "\n",
    "print('sum of square numbers is ', sum)"
   ]
  },
  {
   "cell_type": "markdown",
   "metadata": {},
   "source": [
    "SHORTCUT"
   ]
  },
  {
   "cell_type": "markdown",
   "metadata": {},
   "source": [
    "If you want to calculate the sum of the square of n numbers, the formula is-\n",
    "\n",
    "n*(n+1)(2*n+1)/6"
   ]
  },
  {
   "cell_type": "code",
   "execution_count": 3,
   "metadata": {},
   "outputs": [
    {
     "name": "stdout",
     "output_type": "stream",
     "text": [
      "Enter a number: 6\n",
      "Your sum of Square is:  91.0\n"
     ]
    }
   ],
   "source": [
    "def sum_of_square2(n):\n",
    "    sum = n*(n+1)*(2*n+1)/6\n",
    "    return sum\n",
    "\n",
    "num = int(input('Enter a number: '))\n",
    "sum = sum_of_square2(num)\n",
    "print('Your sum of Square is: ', sum)"
   ]
  },
  {
   "cell_type": "markdown",
   "metadata": {},
   "source": [
    "# (3) For a list, find the second largest number in the list."
   ]
  },
  {
   "cell_type": "markdown",
   "metadata": {},
   "source": [
    "HINT : Finding the largest number was super easy. To find the second largest number, you have to keep track of two variables. Then compare."
   ]
  },
  {
   "cell_type": "code",
   "execution_count": 4,
   "metadata": {},
   "outputs": [
    {
     "name": "stdout",
     "output_type": "stream",
     "text": [
      "Second highest number is :  83\n"
     ]
    }
   ],
   "source": [
    "def get_second_largest(nums):\n",
    "    largest = nums[0]\n",
    "    second_largest = nums[0]\n",
    "    for i in range(1,len(nums)):\n",
    "        if nums[i] > largest:\n",
    "            second_largest = largest\n",
    "            largest = nums[i]\n",
    "        elif nums[i] > second_largest:\n",
    "            second_largest = nums[i]\n",
    "    return second_largest\n",
    " \n",
    "my_nums = [44,11,83,29,25,76,88]\n",
    "second_largest = get_second_largest(my_nums)\n",
    "print(\"Second highest number is : \",second_largest)"
   ]
  },
  {
   "cell_type": "markdown",
   "metadata": {},
   "source": [
    "SHORTCUT"
   ]
  },
  {
   "cell_type": "code",
   "execution_count": 5,
   "metadata": {},
   "outputs": [
    {
     "name": "stdout",
     "output_type": "stream",
     "text": [
      "69\n"
     ]
    }
   ],
   "source": [
    "nums = [5, 12, 54, 87, 55, 69, 23, 17]\n",
    "nums.remove(max(nums))\n",
    "second_largest = max(nums)\n",
    "print(second_largest)"
   ]
  },
  {
   "cell_type": "markdown",
   "metadata": {},
   "source": [
    "# (4) For a list, find the second smallest element in the list"
   ]
  },
  {
   "cell_type": "markdown",
   "metadata": {},
   "source": [
    "HINT : If you understand the process of finding the second largest element, this will be a piece of cake for you."
   ]
  },
  {
   "cell_type": "code",
   "execution_count": 6,
   "metadata": {},
   "outputs": [
    {
     "name": "stdout",
     "output_type": "stream",
     "text": [
      "Second smallest number is :  25\n"
     ]
    }
   ],
   "source": [
    "def get_second_smallest(nums):\n",
    "    smallest = nums[0]\n",
    "    second_smallest = nums[0]\n",
    "    for i in range(1,len(nums)):\n",
    "        if nums[i] < smallest:\n",
    "            second_smallest = smallest\n",
    "            smallest = nums[i]\n",
    "        elif nums[i] < second_smallest:\n",
    "            second_smallest = nums[i]\n",
    "    return second_smallest\n",
    " \n",
    "my_nums = [44,11,83,29,25,76,88]\n",
    "second_smallest = get_second_smallest(my_nums)\n",
    "print(\"Second smallest number is : \", second_smallest)"
   ]
  },
  {
   "cell_type": "markdown",
   "metadata": {},
   "source": [
    "SHORTCUT"
   ]
  },
  {
   "cell_type": "code",
   "execution_count": 7,
   "metadata": {},
   "outputs": [
    {
     "name": "stdout",
     "output_type": "stream",
     "text": [
      "14\n"
     ]
    }
   ],
   "source": [
    "nums = [2, 15, 14, 71, 52, 209, 551]\n",
    "nums.remove(min(nums))\n",
    "second_smallest = min(nums)\n",
    "print(second_smallest)"
   ]
  },
  {
   "cell_type": "markdown",
   "metadata": {},
   "source": [
    "# (5) For a given string, remove all duplicate characters from that string."
   ]
  },
  {
   "cell_type": "markdown",
   "metadata": {},
   "source": [
    "HINT : Create a result string. Then loop through the string and check whether the current character not in the string. If it is not, then add it. Otherwise, it’s already there adding it will make it duplicate."
   ]
  },
  {
   "cell_type": "code",
   "execution_count": 9,
   "metadata": {},
   "outputs": [
    {
     "name": "stdout",
     "output_type": "stream",
     "text": [
      "what is your string:MISCELLANIOUS PROBLEMS\n",
      "Without duplicate:  MISCELANOU PRB\n"
     ]
    }
   ],
   "source": [
    "def remove_duplicate(your_str):\n",
    "    result = ''\n",
    "    for char in your_str:\n",
    "        if char not in result:\n",
    "            result += char\n",
    "    return result\n",
    " \n",
    "user_input = input('what is your string:')\n",
    " \n",
    "no_duplicate = remove_duplicate(user_input)\n",
    "print('Without duplicate: ', no_duplicate)"
   ]
  },
  {
   "cell_type": "code",
   "execution_count": null,
   "metadata": {},
   "outputs": [],
   "source": []
  }
 ],
 "metadata": {
  "kernelspec": {
   "display_name": "Python 3",
   "language": "python",
   "name": "python3"
  },
  "language_info": {
   "codemirror_mode": {
    "name": "ipython",
    "version": 3
   },
   "file_extension": ".py",
   "mimetype": "text/x-python",
   "name": "python",
   "nbconvert_exporter": "python",
   "pygments_lexer": "ipython3",
   "version": "3.7.3"
  }
 },
 "nbformat": 4,
 "nbformat_minor": 2
}
